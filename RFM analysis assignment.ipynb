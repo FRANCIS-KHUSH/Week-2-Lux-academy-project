{
 "cells": [
  {
   "cell_type": "code",
   "execution_count": null,
   "id": "23ae9877",
   "metadata": {},
   "outputs": [],
   "source": [
    "import pandas as pd"
   ]
  },
  {
   "cell_type": "code",
   "execution_count": null,
   "id": "c756a29c",
   "metadata": {},
   "outputs": [],
   "source": [
    "import plotly.express as px"
   ]
  },
  {
   "cell_type": "code",
   "execution_count": null,
   "id": "f65974eb",
   "metadata": {},
   "outputs": [],
   "source": [
    "import plotly.io as pio"
   ]
  },
  {
   "cell_type": "code",
   "execution_count": null,
   "id": "1f74f79e",
   "metadata": {},
   "outputs": [],
   "source": [
    "import plotly.graph_objects as go"
   ]
  },
  {
   "cell_type": "code",
   "execution_count": null,
   "id": "54a3fcd6",
   "metadata": {},
   "outputs": [],
   "source": [
    "pio.templates.default = \"plotly_white\""
   ]
  },
  {
   "cell_type": "code",
   "execution_count": null,
   "id": "c6a0147e",
   "metadata": {},
   "outputs": [],
   "source": [
    "data=pd.read_csv(\"C:/Users/Francis Mwangi/Downloads/rfm_data.csv\")"
   ]
  },
  {
   "cell_type": "code",
   "execution_count": null,
   "id": "4f509142",
   "metadata": {},
   "outputs": [],
   "source": [
    "print(data.head())"
   ]
  },
  {
   "cell_type": "code",
   "execution_count": null,
   "id": "ce38bd0f",
   "metadata": {},
   "outputs": [],
   "source": [
    "from datetime import datetime\n"
   ]
  },
  {
   "cell_type": "code",
   "execution_count": null,
   "id": "85f4ba29",
   "metadata": {
    "scrolled": true
   },
   "outputs": [],
   "source": [
    "# Convert 'PurchaseDate' to datetime\n",
    "\n",
    "data['PurchaseDate'] = pd.to_datetime(data['PurchaseDate'])\n",
    "\n"
   ]
  },
  {
   "cell_type": "code",
   "execution_count": null,
   "id": "b6898511",
   "metadata": {},
   "outputs": [],
   "source": [
    "# Confirming data in PurchaseDate\n",
    "print(data['PurchaseDate'].head())\n"
   ]
  },
  {
   "cell_type": "code",
   "execution_count": null,
   "id": "88a071cc",
   "metadata": {},
   "outputs": [],
   "source": [
    "current_date = datetime.now().date()"
   ]
  },
  {
   "cell_type": "code",
   "execution_count": null,
   "id": "20dd540b",
   "metadata": {},
   "outputs": [],
   "source": [
    "print(current_date)"
   ]
  },
  {
   "cell_type": "code",
   "execution_count": null,
   "id": "08eaab7c",
   "metadata": {
    "scrolled": false
   },
   "outputs": [],
   "source": [
    "# Calculate Recency\n",
    "data['Recency'] = (current_date - data['PurchaseDate'].dt.date.days)\n",
    "\n",
    "\n"
   ]
  },
  {
   "cell_type": "code",
   "execution_count": null,
   "id": "bb0a85e3",
   "metadata": {},
   "outputs": [],
   "source": [
    "# Calculate Frequency\n",
    "\n",
    "frequency_data = data.groupby('CustomerID')['OrderID'].count().reset_index()"
   ]
  },
  {
   "cell_type": "code",
   "execution_count": null,
   "id": "ea2e3085",
   "metadata": {},
   "outputs": [],
   "source": [
    "frequency_data.rename(columns={'OrderID': 'Frequency'}, inplace=True)"
   ]
  },
  {
   "cell_type": "code",
   "execution_count": null,
   "id": "1a8f8faf",
   "metadata": {},
   "outputs": [],
   "source": [
    "data = data.merge(frequency_data, on='CustomerID', how='left')"
   ]
  },
  {
   "cell_type": "code",
   "execution_count": null,
   "id": "9bb4c42a",
   "metadata": {},
   "outputs": [],
   "source": [
    "# Calculate Monetary Value\n",
    "\n",
    "monetary_data = data.groupby('CustomerID')['TransactionAmount'].sum().reset_index()"
   ]
  },
  {
   "cell_type": "code",
   "execution_count": null,
   "id": "b50d8aeb",
   "metadata": {},
   "outputs": [],
   "source": [
    "monetary_data.rename(columns={'TransactionAmount': 'MonetaryValue'}, inplace=True)"
   ]
  },
  {
   "cell_type": "code",
   "execution_count": null,
   "id": "92edd4e8",
   "metadata": {},
   "outputs": [],
   "source": [
    "data = data.merge(monetary_data, on='CustomerID', how='left')"
   ]
  },
  {
   "cell_type": "code",
   "execution_count": null,
   "id": "0d4a9c12",
   "metadata": {},
   "outputs": [],
   "source": [
    "monetary_data = data.groupby('CustomerID')['TransactionAmount'].sum().reset_index()"
   ]
  },
  {
   "cell_type": "code",
   "execution_count": null,
   "id": "8f609e3c",
   "metadata": {},
   "outputs": [],
   "source": [
    "monetary_data.rename(columns={'TransactionAmount': 'MonetaryValue'}, inplace=True)\n"
   ]
  },
  {
   "cell_type": "code",
   "execution_count": null,
   "id": "c682fd22",
   "metadata": {},
   "outputs": [],
   "source": [
    "data = data.merge(monetary_data, on='CustomerID', how='left')"
   ]
  },
  {
   "cell_type": "code",
   "execution_count": null,
   "id": "55f76dae",
   "metadata": {},
   "outputs": [],
   "source": [
    "print(data.head())"
   ]
  },
  {
   "cell_type": "code",
   "execution_count": null,
   "id": "abebbe94",
   "metadata": {},
   "outputs": [],
   "source": [
    "# Define scoring criteria for each RFM value\n",
    "\n",
    "recency_scores = [5, 4, 3, 2, 1]  # Higher score for lower recency (more recent)"
   ]
  },
  {
   "cell_type": "code",
   "execution_count": null,
   "id": "af8d2959",
   "metadata": {},
   "outputs": [],
   "source": [
    "frequency_scores = [1, 2, 3, 4, 5]  # Higher score for higher frequency"
   ]
  },
  {
   "cell_type": "code",
   "execution_count": null,
   "id": "c27696d7",
   "metadata": {},
   "outputs": [],
   "source": [
    "monetary_scores = [1, 2, 3, 4, 5]  # Higher score for higher monetary value"
   ]
  },
  {
   "cell_type": "code",
   "execution_count": null,
   "id": "08117a6c",
   "metadata": {},
   "outputs": [],
   "source": [
    "# Calculate RFM scores\n",
    "\n",
    "data['RecencyScore'] = pd.cut(data['Recency'], bins=5, labels=recency_scores)"
   ]
  },
  {
   "cell_type": "code",
   "execution_count": null,
   "id": "ea2b07cb",
   "metadata": {},
   "outputs": [],
   "source": [
    "data['FrequencyScore'] = pd.cut(data['Frequency'], bins=5, labels=frequency_scores)\n",
    "data['MonetaryScore'] = pd.cut(data['MonetaryValue'], bins=5, labels=monetary_scores)"
   ]
  },
  {
   "cell_type": "code",
   "execution_count": null,
   "id": "f7d98a11",
   "metadata": {},
   "outputs": [],
   "source": [
    "# Convert RFM scores to numeric type\n",
    "\n",
    "data['RecencyScore'] = data['RecencyScore'].astype(int)\n",
    "data['FrequencyScore'] = data['FrequencyScore'].astype(int)\n",
    "data['MonetaryScore'] = data['MonetaryScore'].astype(int)"
   ]
  },
  {
   "cell_type": "code",
   "execution_count": null,
   "id": "014aabf8",
   "metadata": {},
   "outputs": [],
   "source": [
    "# Calculate RFM score by combining the individual scores\n",
    "\n",
    "data['RFM_Score'] = data['RecencyScore'] + data['FrequencyScore'] + data['MonetaryScore']\n"
   ]
  },
  {
   "cell_type": "code",
   "execution_count": null,
   "id": "d2b07a0a",
   "metadata": {},
   "outputs": [],
   "source": [
    "# Create RFM segments based on the RFM score\n",
    "\n",
    "segment_labels = ['Low-Value', 'Mid-Value', 'High-Value']\n",
    "data['Value Segment'] = pd.qcut(data['RFM_Score'], q=3, labels=segment_labels)"
   ]
  },
  {
   "cell_type": "code",
   "execution_count": null,
   "id": "a0c31bb6",
   "metadata": {},
   "outputs": [],
   "source": [
    "segment_counts = data['Value Segment'].value_counts().reset_index()\n",
    "segment_counts.columns = ['Value Segment', 'Count']"
   ]
  },
  {
   "cell_type": "code",
   "execution_count": null,
   "id": "473d7c53",
   "metadata": {},
   "outputs": [],
   "source": [
    "pastel_colors = px.colors.qualitative.Pastel\n"
   ]
  },
  {
   "cell_type": "code",
   "execution_count": null,
   "id": "a8763a5e",
   "metadata": {},
   "outputs": [],
   "source": [
    "fig_segment_dist = px.bar(segment_counts, x='Value Segment', y='Count', \n",
    "                          color='Value Segment', color_discrete_sequence=pastel_colors,\n",
    "                          title='RFM Value Segment Distribution')\n"
   ]
  },
  {
   "cell_type": "code",
   "execution_count": null,
   "id": "269f8ced",
   "metadata": {},
   "outputs": [],
   "source": [
    "fig_segment_dist.update_layout(xaxis_title='RFM Value Segment',\n",
    "                              yaxis_title='Count',\n",
    "                              showlegend=False)"
   ]
  },
  {
   "cell_type": "code",
   "execution_count": null,
   "id": "6f80c8eb",
   "metadata": {},
   "outputs": [],
   "source": [
    "fig_segment_dist.show()"
   ]
  },
  {
   "cell_type": "code",
   "execution_count": null,
   "id": "8c6e24af",
   "metadata": {},
   "outputs": [],
   "source": [
    "data['RFM Customer Segments'] = ''\n"
   ]
  },
  {
   "cell_type": "code",
   "execution_count": null,
   "id": "e1266022",
   "metadata": {},
   "outputs": [],
   "source": [
    "data.loc[data['RFM_Score'] >= 9, 'RFM Customer Segments'] = 'Champions'\n",
    "data.loc[(data['RFM_Score'] >= 6) & (data['RFM_Score'] < 9), 'RFM Customer Segments'] = 'Potential Loyalists'\n",
    "data.loc[(data['RFM_Score'] >= 5) & (data['RFM_Score'] < 6), 'RFM Customer Segments'] = 'At Risk Customers'\n",
    "data.loc[(data['RFM_Score'] >= 4) & (data['RFM_Score'] < 5), 'RFM Customer Segments'] = \"Can't Lose\"\n",
    "data.loc[(data['RFM_Score'] >= 3) & (data['RFM_Score'] < 4), 'RFM Customer Segments'] = \"Lost\"\n"
   ]
  },
  {
   "cell_type": "code",
   "execution_count": null,
   "id": "a4b4609e",
   "metadata": {},
   "outputs": [],
   "source": [
    "print(data[['CustomerID', 'RFM Customer Segments']])\n"
   ]
  },
  {
   "cell_type": "code",
   "execution_count": null,
   "id": "2022568e",
   "metadata": {},
   "outputs": [],
   "source": [
    "segment_product_counts = data.groupby(['Value Segment', 'RFM Customer Segments']).size().reset_index(name='Count')\n",
    "\n",
    "segment_product_counts = segment_product_counts.sort_values('Count', ascending=False)\n",
    "\n",
    "fig_treemap_segment_product = px.treemap(segment_product_counts, \n",
    "                                         path=['Value Segment', 'RFM Customer Segments'], \n",
    "                                         values='Count',\n",
    "                                         color='Value Segment', color_discrete_sequence=px.colors.qualitative.Pastel,\n",
    "                                         title='RFM Customer Segments by Value')\n",
    "fig_treemap_segment_product.show()"
   ]
  },
  {
   "cell_type": "code",
   "execution_count": null,
   "id": "9e4e3618",
   "metadata": {},
   "outputs": [],
   "source": [
    "champions_segment = data[data['RFM Customer Segments'] == 'Champions']\n",
    "\n",
    "fig = go.Figure()\n",
    "fig.add_trace(go.Box(y=champions_segment['RecencyScore'], name='Recency'))\n",
    "fig.add_trace(go.Box(y=champions_segment['FrequencyScore'], name='Frequency'))\n",
    "fig.add_trace(go.Box(y=champions_segment['MonetaryScore'], name='Monetary'))\n",
    "\n",
    "fig.update_layout(title='Distribution of RFM Values within Champions Segment',\n",
    "                  yaxis_title='RFM Value',\n",
    "                  showlegend=True)\n",
    "\n",
    "fig.show()"
   ]
  },
  {
   "cell_type": "code",
   "execution_count": null,
   "id": "8b9e0123",
   "metadata": {},
   "outputs": [],
   "source": [
    "correlation_matrix = champions_segment[['RecencyScore', 'FrequencyScore', 'MonetaryScore']].corr()"
   ]
  },
  {
   "cell_type": "code",
   "execution_count": null,
   "id": "369c99b1",
   "metadata": {},
   "outputs": [],
   "source": [
    "fig_heatmap = go.Figure(data=go.Heatmap(\n",
    "                   z=correlation_matrix.values,\n",
    "                   x=correlation_matrix.columns,\n",
    "                   y=correlation_matrix.columns,\n",
    "                   colorscale='RdBu',\n",
    "                   colorbar=dict(title='Correlation')))\n",
    "\n",
    "fig_heatmap.update_layout(title='Correlation Matrix of RFM Values within Champions Segment')\n",
    "\n",
    "fig_heatmap.show()"
   ]
  },
  {
   "cell_type": "code",
   "execution_count": null,
   "id": "3917e987",
   "metadata": {},
   "outputs": [],
   "source": [
    "import plotly.colors\n",
    "\n",
    "pastel_colors = plotly.colors.qualitative.Pastel\n",
    "\n",
    "segment_counts = data['RFM Customer Segments'].value_counts()"
   ]
  },
  {
   "cell_type": "code",
   "execution_count": null,
   "id": "202bcec6",
   "metadata": {},
   "outputs": [],
   "source": [
    "fig = go.Figure(data=[go.Bar(x=segment_counts.index, y=segment_counts.values,\n",
    "                            marker=dict(color=pastel_colors))])"
   ]
  },
  {
   "cell_type": "code",
   "execution_count": null,
   "id": "03671f86",
   "metadata": {},
   "outputs": [],
   "source": [
    "champions_color = 'rgb(158, 202, 225)'\n",
    "fig.update_traces(marker_color=[champions_color if segment == 'Champions' else pastel_colors[i]\n",
    "                                for i, segment in enumerate(segment_counts.index)],\n",
    "                  marker_line_color='rgb(8, 48, 107)',\n",
    "                  marker_line_width=1.5, opacity=0.6)\n"
   ]
  },
  {
   "cell_type": "code",
   "execution_count": null,
   "id": "d597d9be",
   "metadata": {},
   "outputs": [],
   "source": [
    "fig.update_layout(title='Comparison of RFM Segments',\n",
    "                  xaxis_title='RFM Segments',\n",
    "                  yaxis_title='Number of Customers',\n",
    "                  showlegend=False)\n",
    "\n",
    "fig.show()"
   ]
  },
  {
   "cell_type": "code",
   "execution_count": null,
   "id": "fe791834",
   "metadata": {},
   "outputs": [],
   "source": [
    "segment_scores = data.groupby('RFM Customer Segments')['RecencyScore', 'FrequencyScore', 'MonetaryScore'].mean().reset_index()\n"
   ]
  },
  {
   "cell_type": "code",
   "execution_count": null,
   "id": "e5e822cd",
   "metadata": {},
   "outputs": [],
   "source": [
    "fig = go.Figure()\n"
   ]
  },
  {
   "cell_type": "code",
   "execution_count": null,
   "id": "9d8152a0",
   "metadata": {},
   "outputs": [],
   "source": [
    "fig.add_trace(go.Bar(\n",
    "    x=segment_scores['RFM Customer Segments'],\n",
    "    y=segment_scores['RecencyScore'],\n",
    "    name='Recency Score',\n",
    "    marker_color='rgb(158,202,225)'\n",
    "))"
   ]
  },
  {
   "cell_type": "code",
   "execution_count": null,
   "id": "5dea91b5",
   "metadata": {},
   "outputs": [],
   "source": [
    "fig.add_trace(go.Bar(\n",
    "    x=segment_scores['RFM Customer Segments'],\n",
    "    y=segment_scores['FrequencyScore'],\n",
    "    name='Frequency Score',\n",
    "    marker_color='rgb(94,158,217)'\n",
    "))"
   ]
  },
  {
   "cell_type": "code",
   "execution_count": null,
   "id": "8417fe3c",
   "metadata": {},
   "outputs": [],
   "source": [
    "fig.add_trace(go.Bar(\n",
    "    x=segment_scores['RFM Customer Segments'],\n",
    "    y=segment_scores['MonetaryScore'],\n",
    "    name='Monetary Score',\n",
    "    marker_color='rgb(32,102,148)'\n",
    "))\n"
   ]
  },
  {
   "cell_type": "code",
   "execution_count": null,
   "id": "9ca227e2",
   "metadata": {},
   "outputs": [],
   "source": [
    "fig.update_layout(\n",
    "    title='Comparison of RFM Segments based on Recency, Frequency, and Monetary Scores',\n",
    "    xaxis_title='RFM Segments',\n",
    "    yaxis_title='Score',\n",
    "    barmode='group',\n",
    "    showlegend=True\n",
    ")\n",
    "fig.show()"
   ]
  },
  {
   "cell_type": "code",
   "execution_count": null,
   "id": "5f157bf4",
   "metadata": {},
   "outputs": [],
   "source": []
  }
 ],
 "metadata": {
  "kernelspec": {
   "display_name": "Python 3 (ipykernel)",
   "language": "python",
   "name": "python3"
  },
  "language_info": {
   "codemirror_mode": {
    "name": "ipython",
    "version": 3
   },
   "file_extension": ".py",
   "mimetype": "text/x-python",
   "name": "python",
   "nbconvert_exporter": "python",
   "pygments_lexer": "ipython3",
   "version": "3.11.6"
  }
 },
 "nbformat": 4,
 "nbformat_minor": 5
}
